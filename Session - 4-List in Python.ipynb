{
 "cells": [
  {
   "cell_type": "markdown",
   "id": "6b5c2f02",
   "metadata": {},
   "source": [
    "## Adding item in list"
   ]
  },
  {
   "cell_type": "code",
   "execution_count": 7,
   "id": "87e40bf5",
   "metadata": {},
   "outputs": [
    {
     "name": "stdout",
     "output_type": "stream",
     "text": [
      "[1, 2, 3, 4, 5, 6]\n"
     ]
    }
   ],
   "source": [
    "#append: Appends add single item in the list.\n",
    "\n",
    "L = [1,2,3,4,5]\n",
    "\n",
    "L.append(6)\n",
    "\n",
    "print(L)"
   ]
  },
  {
   "cell_type": "code",
   "execution_count": 8,
   "id": "159248e8",
   "metadata": {},
   "outputs": [
    {
     "name": "stdout",
     "output_type": "stream",
     "text": [
      "[1, 2, 3, 4, 5, 6, 7, 8, 9]\n"
     ]
    }
   ],
   "source": [
    "# extend: Adds multiple items in the list.\n",
    "\n",
    "L.extend([7,8,9])\n",
    "\n",
    "print(L)"
   ]
  },
  {
   "cell_type": "code",
   "execution_count": 9,
   "id": "473c6dd9",
   "metadata": {},
   "outputs": [
    {
     "name": "stdout",
     "output_type": "stream",
     "text": [
      "[1, 2, 3, 4, 5, 6, 7, 8, 9, [7, 8, 9]]\n"
     ]
    }
   ],
   "source": [
    "#Note : Append will only add one item only.\n",
    "\n",
    "L.append([7,8,9])\n",
    "\n",
    "print(L)"
   ]
  },
  {
   "cell_type": "code",
   "execution_count": 11,
   "id": "895a73ea",
   "metadata": {},
   "outputs": [
    {
     "name": "stdout",
     "output_type": "stream",
     "text": [
      "[1, 2, 3, 4, 5, 6, 7, 8, 9, [7, 8, 9], 'D', 'e', 'l', 'h', 'i']\n"
     ]
    }
   ],
   "source": [
    "#Note: Extend will add multiple items even if we give one single item.\n",
    "\n",
    "L.extend('Delhi')\n",
    "\n",
    "print(L)"
   ]
  },
  {
   "cell_type": "code",
   "execution_count": 15,
   "id": "9ff4f336",
   "metadata": {},
   "outputs": [
    {
     "name": "stdout",
     "output_type": "stream",
     "text": [
      "[1, 100, 2, 3, 4, 5]\n"
     ]
    }
   ],
   "source": [
    "#insert: Add at selected location\n",
    "#L.insert(location,value)\n",
    "L = [1,2,3,4,5]\n",
    "\n",
    "L.insert(1,100)\n",
    "print(L)\n"
   ]
  },
  {
   "cell_type": "markdown",
   "id": "b9ee451a",
   "metadata": {},
   "source": [
    "## Editing items in list"
   ]
  },
  {
   "cell_type": "code",
   "execution_count": 22,
   "id": "450bfd35",
   "metadata": {},
   "outputs": [
    {
     "name": "stdout",
     "output_type": "stream",
     "text": [
      "[1, 100, 200, 300, 500]\n"
     ]
    }
   ],
   "source": [
    "#editing is possible as list are mutuable unlike strings\n",
    "\n",
    "L = [1,2,3,4,5]\n",
    "\n",
    "# editing using indexing\n",
    "L[-1] = 500\n",
    "\n",
    "# editing using slicing\n",
    "L[1:4] = [100,200,300]\n",
    "\n",
    "print(L)"
   ]
  },
  {
   "cell_type": "markdown",
   "id": "58e832b4",
   "metadata": {},
   "source": [
    "## Deletion in List"
   ]
  },
  {
   "cell_type": "code",
   "execution_count": 27,
   "id": "115cd5af",
   "metadata": {},
   "outputs": [
    {
     "name": "stdout",
     "output_type": "stream",
     "text": [
      "[1, 2, 3, 4, 5]\n",
      "[1, 4]\n"
     ]
    }
   ],
   "source": [
    "#del: deletes the complete list.\n",
    "\n",
    "L = [1,2,3,4,5]\n",
    "print(L)\n",
    "\n",
    "# deletion using indexing providing index location\n",
    "del L[-1]\n",
    "\n",
    "# deletion using slicing providing location\n",
    "del L[1:3]\n",
    "\n",
    "print(L)"
   ]
  },
  {
   "cell_type": "code",
   "execution_count": 29,
   "id": "31e5d529",
   "metadata": {},
   "outputs": [
    {
     "name": "stdout",
     "output_type": "stream",
     "text": [
      "[1, 2, 3, 4]\n"
     ]
    }
   ],
   "source": [
    "# remove : remove item using values\n",
    "\n",
    "L = [1,2,3,4,5]\n",
    "\n",
    "L.remove(5)\n",
    "\n",
    "\n",
    "print(L)"
   ]
  },
  {
   "cell_type": "code",
   "execution_count": 31,
   "id": "7869b46e",
   "metadata": {},
   "outputs": [
    {
     "name": "stdout",
     "output_type": "stream",
     "text": [
      "[2, 3, 4, 5]\n",
      "[2, 3, 4]\n"
     ]
    }
   ],
   "source": [
    "# pop : can delete the item at any particular index or last item when no index is provided.\n",
    "\n",
    "L = [1,2,3,4,5]\n",
    "\n",
    "L.pop(0)\n",
    "\n",
    "print(L)\n",
    "\n",
    "L.pop()\n",
    "\n",
    "print(L)"
   ]
  },
  {
   "cell_type": "code",
   "execution_count": 33,
   "id": "b70cdec7",
   "metadata": {},
   "outputs": [
    {
     "name": "stdout",
     "output_type": "stream",
     "text": [
      "[]\n"
     ]
    }
   ],
   "source": [
    "# clear : remove every item in the list. Doesnt remove list\n",
    "\n",
    "L = [1,2,3,4,5]\n",
    "\n",
    "L.clear()\n",
    "\n",
    "print(L)"
   ]
  },
  {
   "cell_type": "markdown",
   "id": "a7f915b2",
   "metadata": {},
   "source": [
    "## Operation on Lists"
   ]
  },
  {
   "cell_type": "markdown",
   "id": "3b6c069b",
   "metadata": {},
   "source": [
    "- Arithmetic\n",
    "- Membership\n",
    "- Loop"
   ]
  },
  {
   "cell_type": "code",
   "execution_count": 34,
   "id": "709d4829",
   "metadata": {},
   "outputs": [
    {
     "data": {
      "text/plain": [
       "[1, 2, 3, 4, 5, 6, 7, 8]"
      ]
     },
     "execution_count": 34,
     "metadata": {},
     "output_type": "execute_result"
    }
   ],
   "source": [
    "# Arithmetic (+,*)\n",
    "\n",
    "L1 = [1,2,3,4]\n",
    "L2 = [5,6,7,8]\n",
    "\n",
    "L1 + L2 #concatenate/merge"
   ]
  },
  {
   "cell_type": "code",
   "execution_count": 35,
   "id": "11d9e2ad",
   "metadata": {},
   "outputs": [
    {
     "data": {
      "text/plain": [
       "[1, 2, 3, 4, 1, 2, 3, 4, 1, 2, 3, 4]"
      ]
     },
     "execution_count": 35,
     "metadata": {},
     "output_type": "execute_result"
    }
   ],
   "source": [
    "L1 * 3"
   ]
  },
  {
   "cell_type": "code",
   "execution_count": 38,
   "id": "b46d4e99",
   "metadata": {},
   "outputs": [
    {
     "name": "stdout",
     "output_type": "stream",
     "text": [
      "True\n",
      "False\n",
      "True\n"
     ]
    }
   ],
   "source": [
    "#Membership : whether value in list or not\n",
    "\n",
    "L1 = [1,2,3,4,5]\n",
    "\n",
    "L2 = [1,2,3,4,[5,6]]\n",
    "\n",
    "print(5 in L1)\n",
    "\n",
    "print(5 in L2)\n",
    "\n",
    "print([5,6] in L2)"
   ]
  },
  {
   "cell_type": "code",
   "execution_count": 40,
   "id": "d0b74ea3",
   "metadata": {},
   "outputs": [
    {
     "name": "stdout",
     "output_type": "stream",
     "text": [
      "1\n",
      "2\n",
      "3\n",
      "4\n",
      "5\n",
      "1\n",
      "2\n",
      "3\n",
      "4\n",
      "[5, 6]\n"
     ]
    }
   ],
   "source": [
    "#loop : looping through list\n",
    "\n",
    "L1 = [1,2,3,4,5]\n",
    "\n",
    "L2 = [1,2,3,4,[5,6]]\n",
    "\n",
    "for i in L1:\n",
    "    print(i)\n",
    "    \n",
    "for i in L2:\n",
    "    print(i)"
   ]
  },
  {
   "cell_type": "markdown",
   "id": "24f9b945",
   "metadata": {},
   "source": [
    "## List Functions"
   ]
  },
  {
   "cell_type": "code",
   "execution_count": 45,
   "id": "5ea16d3c",
   "metadata": {},
   "outputs": [
    {
     "name": "stdout",
     "output_type": "stream",
     "text": [
      "5\n",
      "1\n",
      "8\n",
      "[1, 2, 3, 7, 8]\n",
      "[8, 7, 3, 2, 1]\n"
     ]
    }
   ],
   "source": [
    "#len/min/max/sorted\n",
    "\n",
    "L = [2,1,3,7,8]\n",
    "\n",
    "print(len(L))\n",
    "\n",
    "print(min(L))\n",
    "\n",
    "print(max(L))\n",
    "\n",
    "print(sorted(L))\n",
    "\n",
    "print(sorted(L, reverse = True))"
   ]
  },
  {
   "cell_type": "code",
   "execution_count": 47,
   "id": "0a89cb2c",
   "metadata": {},
   "outputs": [
    {
     "data": {
      "text/plain": [
       "1"
      ]
     },
     "execution_count": 47,
     "metadata": {},
     "output_type": "execute_result"
    }
   ],
   "source": [
    "# count : count the freq of item in list\n",
    "\n",
    "L = [1,2,3,4,5,3,2,1,3]\n",
    "\n",
    "L.count(4)"
   ]
  },
  {
   "cell_type": "code",
   "execution_count": 48,
   "id": "b633e2ce",
   "metadata": {},
   "outputs": [
    {
     "data": {
      "text/plain": [
       "1"
      ]
     },
     "execution_count": 48,
     "metadata": {},
     "output_type": "execute_result"
    }
   ],
   "source": [
    "#index : give index position of item in the list\n",
    "\n",
    "L = [1,2,3,4,5,3,2,21]\n",
    "\n",
    "L.index(2)"
   ]
  },
  {
   "cell_type": "code",
   "execution_count": 49,
   "id": "9dc9ab07",
   "metadata": {},
   "outputs": [],
   "source": [
    "#reverse : reverse the items in the list\n",
    "\n",
    "L = [1,2,3,4,5,3,2,21]\n",
    "\n",
    "# permanently reverses the list\n",
    "\n",
    "L.reverse()"
   ]
  },
  {
   "cell_type": "code",
   "execution_count": 50,
   "id": "b2217d21",
   "metadata": {},
   "outputs": [
    {
     "data": {
      "text/plain": [
       "[21, 2, 3, 5, 4, 3, 2, 1]"
      ]
     },
     "execution_count": 50,
     "metadata": {},
     "output_type": "execute_result"
    }
   ],
   "source": [
    "L"
   ]
  },
  {
   "cell_type": "code",
   "execution_count": 51,
   "id": "a8a56063",
   "metadata": {},
   "outputs": [
    {
     "name": "stdout",
     "output_type": "stream",
     "text": [
      "[1, 2, 4, 3, 7]\n",
      "[1, 2, 3, 4, 7]\n",
      "[1, 2, 4, 3, 7]\n",
      "None\n",
      "[1, 2, 3, 4, 7]\n"
     ]
    }
   ],
   "source": [
    "# sort (vs sorted) : do sorting permanently\n",
    "\n",
    "L = [1,2,4,3,7]\n",
    "\n",
    "print(L)\n",
    "\n",
    "print(sorted(L))\n",
    "\n",
    "print(L)\n",
    "\n",
    "print(L.sort())\n",
    "\n",
    "print(L)\n",
    "\n"
   ]
  },
  {
   "cell_type": "code",
   "execution_count": 52,
   "id": "6896742d",
   "metadata": {},
   "outputs": [
    {
     "name": "stdout",
     "output_type": "stream",
     "text": [
      "[2, 1, 4, 5, 3]\n",
      "1897384049600\n",
      "[2, 1, 4, 5, 3]\n",
      "1897387482176\n"
     ]
    }
   ],
   "source": [
    "# copy : creates a copy\n",
    "\n",
    "L = [2,1,4,5,3]\n",
    "\n",
    "print(L)\n",
    "\n",
    "print(id(L))\n",
    "\n",
    "L1 = L.copy()\n",
    "\n",
    "print(L1)\n",
    "\n",
    "print(id(L1))"
   ]
  },
  {
   "cell_type": "markdown",
   "id": "dec9dd1e",
   "metadata": {},
   "source": [
    "## List Comprehension"
   ]
  },
  {
   "attachments": {
    "download.png": {
     "image/png": "[encoded data removed]"
    }
   },
   "cell_type": "markdown",
   "id": "9146ab8d",
   "metadata": {},
   "source": [
    "List Comprehension provides a concise way of creating lists.\n",
    "\n",
    "![download.png](attachment:download.png)\n",
    "\n",
    "Syntax:\n",
    "\n",
    "**newlist = [expression for item in iterable if condition == True ]**\n",
    "\n",
    "Advantages:\n",
    "- More time efficient and space efficient\n",
    "- Require fewer lines of code.\n",
    "- Transforms iterative statement into the formula."
   ]
  },
  {
   "cell_type": "code",
   "execution_count": 53,
   "id": "807540a7",
   "metadata": {},
   "outputs": [
    {
     "name": "stdout",
     "output_type": "stream",
     "text": [
      "[1, 2, 3, 4, 5, 6, 7, 8, 9, 10]\n"
     ]
    }
   ],
   "source": [
    "# Add 1 to 10 numbers to the list\n",
    "\n",
    "L = []\n",
    "\n",
    "for i in range(1,11):\n",
    "    L.append(i)\n",
    "\n",
    "print(L)"
   ]
  },
  {
   "cell_type": "code",
   "execution_count": 54,
   "id": "302b2830",
   "metadata": {},
   "outputs": [],
   "source": [
    "# using list comprehension\n",
    "\n",
    "L = [i for i in range(1,11)]"
   ]
  },
  {
   "cell_type": "code",
   "execution_count": 55,
   "id": "1c17c5d0",
   "metadata": {},
   "outputs": [
    {
     "data": {
      "text/plain": [
       "[1, 2, 3, 4, 5, 6, 7, 8, 9, 10]"
      ]
     },
     "execution_count": 55,
     "metadata": {},
     "output_type": "execute_result"
    }
   ],
   "source": [
    "L"
   ]
  },
  {
   "cell_type": "code",
   "execution_count": 60,
   "id": "0a85a837",
   "metadata": {},
   "outputs": [
    {
     "name": "stdout",
     "output_type": "stream",
     "text": [
      "[2, 3, 4, 2, 3, 4, 2, 3, 4, 2, 3, 4]\n",
      "[8, 12, 16]\n"
     ]
    }
   ],
   "source": [
    "# scalar multiplication on a vector\n",
    "\n",
    "v = [2,3,4]\n",
    "s = 4\n",
    "\n",
    "print(v*s) # this is not required\n",
    "\n",
    "L = [s*i for i in v]\n",
    "print(L)"
   ]
  },
  {
   "cell_type": "code",
   "execution_count": 61,
   "id": "05ba04eb",
   "metadata": {},
   "outputs": [
    {
     "data": {
      "text/plain": [
       "[1, 4, 9, 16, 25]"
      ]
     },
     "execution_count": 61,
     "metadata": {},
     "output_type": "execute_result"
    }
   ],
   "source": [
    "# Add squares\n",
    "\n",
    "L = [1,2,3,4,5]\n",
    "\n",
    "[i**2 for i in L]"
   ]
  },
  {
   "cell_type": "code",
   "execution_count": 62,
   "id": "8f6f60b3",
   "metadata": {},
   "outputs": [
    {
     "data": {
      "text/plain": [
       "[5, 10, 15, 20, 25, 30, 35, 40, 45, 50]"
      ]
     },
     "execution_count": 62,
     "metadata": {},
     "output_type": "execute_result"
    }
   ],
   "source": [
    "# print all the numbers divisible by 5 in the range of 1 to 50\n",
    "\n",
    "[i for i in range(1,51) if i%5 ==0]"
   ]
  },
  {
   "cell_type": "code",
   "execution_count": 63,
   "id": "d878f06d",
   "metadata": {},
   "outputs": [
    {
     "data": {
      "text/plain": [
       "['python', 'php']"
      ]
     },
     "execution_count": 63,
     "metadata": {},
     "output_type": "execute_result"
    }
   ],
   "source": [
    "# find languages which start with letter p\n",
    "\n",
    "languages = ['java','python','php','c','javascript']\n",
    "\n",
    "[i for i in languages if i[0] == 'p']"
   ]
  },
  {
   "cell_type": "code",
   "execution_count": 68,
   "id": "62001164",
   "metadata": {},
   "outputs": [
    {
     "name": "stdout",
     "output_type": "stream",
     "text": [
      "['apple', 'avocado']\n",
      "['apple', 'avocado']\n"
     ]
    }
   ],
   "source": [
    "# nested if with list comprehension\n",
    "basket = ['apple','guava','cherry','banana','almonds','avocado']\n",
    "my_fruits = ['apple','kiwi','grapes','banana','apricot','avocado']\n",
    "\n",
    "# add new list from my_fruits and items if the fruit exists in basket and also started with 'a'\n",
    "\n",
    "print([i for i in my_fruits if (i in basket) and (i[0] == 'a')]) # using and condition\n",
    "\n",
    "print([i for i in my_fruits if i in basket if i[0] == 'a']) # using nested if\n"
   ]
  },
  {
   "cell_type": "code",
   "execution_count": 4,
   "id": "643005de",
   "metadata": {},
   "outputs": [
    {
     "ename": "IndexError",
     "evalue": "list index out of range",
     "output_type": "error",
     "traceback": [
      "\u001b[1;31m---------------------------------------------------------------------------\u001b[0m",
      "\u001b[1;31mIndexError\u001b[0m                                Traceback (most recent call last)",
      "Cell \u001b[1;32mIn[4], line 7\u001b[0m\n\u001b[0;32m      5\u001b[0m \u001b[38;5;28;01mfor\u001b[39;00m i \u001b[38;5;129;01min\u001b[39;00m \u001b[38;5;28mrange\u001b[39m(\u001b[38;5;241m1\u001b[39m,\u001b[38;5;241m4\u001b[39m):\n\u001b[0;32m      6\u001b[0m     \u001b[38;5;28;01mfor\u001b[39;00m j \u001b[38;5;129;01min\u001b[39;00m \u001b[38;5;28mrange\u001b[39m(\u001b[38;5;241m1\u001b[39m,\u001b[38;5;241m4\u001b[39m):\n\u001b[1;32m----> 7\u001b[0m         \u001b[43mL\u001b[49m\u001b[43m[\u001b[49m\u001b[43mi\u001b[49m\u001b[43m]\u001b[49m[j] \u001b[38;5;241m=\u001b[39m j\n\u001b[0;32m     10\u001b[0m \u001b[38;5;28mprint\u001b[39m(L)\n",
      "\u001b[1;31mIndexError\u001b[0m: list index out of range"
     ]
    }
   ],
   "source": [
    "# nested list comprehension\n",
    "\n",
    "# Print a (3,3) 2d-matrix using list comprehension\n",
    "L = []\n",
    "for i in range(1,4):\n",
    "    for j in range(1,4):\n",
    "        L[i][j] = j\n",
    "        \n",
    "\n",
    "print(L)"
   ]
  },
  {
   "cell_type": "code",
   "execution_count": 5,
   "id": "4fdd3238",
   "metadata": {},
   "outputs": [
    {
     "data": {
      "text/plain": [
       "[[1, 2, 3], [2, 4, 6], [3, 6, 9]]"
      ]
     },
     "execution_count": 5,
     "metadata": {},
     "output_type": "execute_result"
    }
   ],
   "source": [
    "[[i*j for i in range(1,4)] for j in range(1,4)]"
   ]
  },
  {
   "cell_type": "code",
   "execution_count": 7,
   "id": "295ddbcc",
   "metadata": {},
   "outputs": [],
   "source": [
    "matrix = []\n",
    "for i in range(1, 4):\n",
    "    row = []\n",
    "    for j in range(1, 4):\n",
    "        row.append(i * j)\n",
    "    matrix.append(row)"
   ]
  },
  {
   "cell_type": "code",
   "execution_count": 8,
   "id": "c5d9ce1f",
   "metadata": {},
   "outputs": [
    {
     "name": "stdout",
     "output_type": "stream",
     "text": [
      "[[1, 2, 3], [2, 4, 6], [3, 6, 9]]\n"
     ]
    }
   ],
   "source": [
    "print(matrix)"
   ]
  },
  {
   "cell_type": "markdown",
   "id": "aaf83d17",
   "metadata": {},
   "source": [
    "# 2 ways to traverse the list\n",
    "\n",
    "- itemwise\n",
    "- indexwise"
   ]
  },
  {
   "cell_type": "code",
   "execution_count": 10,
   "id": "cee7251c",
   "metadata": {},
   "outputs": [
    {
     "name": "stdout",
     "output_type": "stream",
     "text": [
      "1\n",
      "2\n",
      "3\n",
      "4\n"
     ]
    }
   ],
   "source": [
    "# itemwise\n",
    "\n",
    "L = [1,2,3,4]\n",
    "\n",
    "for i in L:\n",
    "    print(i)"
   ]
  },
  {
   "cell_type": "code",
   "execution_count": 12,
   "id": "ebd34e2a",
   "metadata": {},
   "outputs": [
    {
     "name": "stdout",
     "output_type": "stream",
     "text": [
      "1\n",
      "2\n",
      "3\n",
      "4\n"
     ]
    }
   ],
   "source": [
    "# indexwise\n",
    "\n",
    "L = [1,2,3,4]\n",
    "\n",
    "for i in range(0,len(L)):\n",
    "    print(L[i])"
   ]
  },
  {
   "cell_type": "code",
   "execution_count": 14,
   "id": "efbbec11",
   "metadata": {},
   "outputs": [],
   "source": [
    "# zip function\n",
    "\n",
    "# zip function returns a zip object, which is an iterator of tuples where the first item in each passed iterator is paired together, \n",
    "# then the second item in each passed iterator are paired together."
   ]
  },
  {
   "cell_type": "code",
   "execution_count": 15,
   "id": "a208af06",
   "metadata": {},
   "outputs": [
    {
     "data": {
      "text/plain": [
       "[(1, -1), (2, -2), (3, -3), (4, -4)]"
      ]
     },
     "execution_count": 15,
     "metadata": {},
     "output_type": "execute_result"
    }
   ],
   "source": [
    "L1 = [1,2,3,4]\n",
    "\n",
    "L2 = [-1,-2,-3,-4]\n",
    "\n",
    "list(zip(L1,L2))\n"
   ]
  },
  {
   "cell_type": "code",
   "execution_count": 16,
   "id": "0da060ee",
   "metadata": {},
   "outputs": [
    {
     "data": {
      "text/plain": [
       "[0, 0, 0, 0]"
      ]
     },
     "execution_count": 16,
     "metadata": {},
     "output_type": "execute_result"
    }
   ],
   "source": [
    "[i+j for i,j in zip(L1,L2)]"
   ]
  },
  {
   "cell_type": "code",
   "execution_count": null,
   "id": "b650cff8",
   "metadata": {},
   "outputs": [],
   "source": []
  }
 ],
 "metadata": {
  "kernelspec": {
   "display_name": "Python 3 (ipykernel)",
   "language": "python",
   "name": "python3"
  },
  "language_info": {
   "codemirror_mode": {
    "name": "ipython",
    "version": 3
   },
   "file_extension": ".py",
   "mimetype": "text/x-python",
   "name": "python",
   "nbconvert_exporter": "python",
   "pygments_lexer": "ipython3",
   "version": "3.10.9"
  }
 },
 "nbformat": 4,
 "nbformat_minor": 5
}
