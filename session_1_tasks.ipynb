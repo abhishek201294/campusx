{
  "nbformat": 4,
  "nbformat_minor": 0,
  "metadata": {
    "colab": {
      "provenance": [],
      "include_colab_link": true
    },
    "kernelspec": {
      "name": "python3",
      "display_name": "Python 3"
    },
    "language_info": {
      "name": "python"
    }
  },
  "cells": [
    {
      "cell_type": "markdown",
      "metadata": {
        "id": "view-in-github",
        "colab_type": "text"
      },
      "source": [
        "<a href=\"https://colab.research.google.com/github/abhishek201294/campusx/blob/main/session_1_tasks.ipynb\" target=\"_parent\"><img src=\"https://colab.research.google.com/assets/colab-badge.svg\" alt=\"Open In Colab\"/></a>"
      ]
    },
    {
      "cell_type": "markdown",
      "source": [
        "# Task : Session 1\n",
        "Solve these questions own your own and try to test yourself what you have learned in the session.\n",
        "\n",
        "Happy Learning!"
      ],
      "metadata": {
        "id": "A05OG15VqOPF"
      }
    },
    {
      "cell_type": "markdown",
      "source": [
        "### Q1 :- Print the given strings as per stated format.\n",
        "\n",
        "**Given strings**:\n",
        "```\n",
        "\"Data\" \"Science\" \"Mentorship\" \"Program\"\n",
        "\"By\" \"CampusX\"\n",
        "```\n",
        "**Output**:\n",
        "```\n",
        "Data-Science-Mentorship-Program-started-By-CampusX\n",
        "```\n",
        "\n",
        "Concept- [Seperator and End]"
      ],
      "metadata": {
        "id": "2doIXf8bqe9_"
      }
    },
    {
      "cell_type": "code",
      "source": [
        "# Write your code here"
      ],
      "metadata": {
        "id": "-em6d3KErDtp"
      },
      "execution_count": null,
      "outputs": []
    },
    {
      "cell_type": "markdown",
      "source": [
        "### Q2:- Write a program that will convert celsius value to fahrenheit."
      ],
      "metadata": {
        "id": "1KUpN7ZTrC3_"
      }
    },
    {
      "cell_type": "code",
      "source": [
        "# Write your code here\n",
        "celcius = float(input(\"Enter the temp in celcius\"))\n",
        "\n",
        "faren = celcius *(9/5) + 32\n",
        "\n",
        "print(faren, 'F')\n"
      ],
      "metadata": {
        "id": "yxKYhYQiqWfj",
        "outputId": "956826c4-72f5-48a0-c229-86ebbcfa0e29",
        "colab": {
          "base_uri": "https://localhost:8080/"
        }
      },
      "execution_count": 3,
      "outputs": [
        {
          "output_type": "stream",
          "name": "stdout",
          "text": [
            "Enter the temp in celcius25\n",
            "77.0 F\n"
          ]
        }
      ]
    },
    {
      "cell_type": "markdown",
      "source": [
        "### Q3:- Take 2 numbers as input from the user.Write a program to swap the numbers without using any special python syntax."
      ],
      "metadata": {
        "id": "RLrOBBJurLB2"
      }
    },
    {
      "cell_type": "code",
      "source": [
        "# Write your code here\n",
        "a = int(input(\"Give 1st number:\"))\n",
        "b = int(input(\"Give 2nd Number:\"))\n",
        "\n",
        "a,b = b,a\n",
        "\n",
        "print(a)\n",
        "print(b)"
      ],
      "metadata": {
        "id": "yPn7if0TrJ4F",
        "outputId": "4df357e0-7004-4070-fb4b-3d044345dc39",
        "colab": {
          "base_uri": "https://localhost:8080/"
        }
      },
      "execution_count": 4,
      "outputs": [
        {
          "output_type": "stream",
          "name": "stdout",
          "text": [
            "Give 1st number:12\n",
            "Give 2nd Number:45\n",
            "45\n",
            "12\n"
          ]
        }
      ]
    },
    {
      "cell_type": "markdown",
      "source": [
        "### Q4:- Write a program to find the euclidean distance between two coordinates.Take both the coordinates from the user as input."
      ],
      "metadata": {
        "id": "waLCP1bjr7ML"
      }
    },
    {
      "cell_type": "code",
      "source": [
        "# Write your code here\n",
        "x1 = int(input('Enter x cord for 1st point'))\n",
        "y1 = int(input('Enter y cord for 1st point'))\n",
        "x2 = int(input('Enter x cord for 2nd point'))\n",
        "y2 = int(input('Enter y cord for 2nd point'))\n",
        "\n",
        "edis = ((x1-x2)**2 + (y1-y2)**2)**0.5\n",
        "\n",
        "print(edis)"
      ],
      "metadata": {
        "id": "Pl1Sv-xnrxnH",
        "outputId": "0a0b3445-d213-47b4-a4cb-b7a5243f3e5c",
        "colab": {
          "base_uri": "https://localhost:8080/"
        }
      },
      "execution_count": 7,
      "outputs": [
        {
          "output_type": "stream",
          "name": "stdout",
          "text": [
            "Enter x cord for 1st point2\n",
            "Enter y cord for 1st point3\n",
            "Enter x cord for 2nd point4\n",
            "Enter y cord for 2nd point5\n",
            "2.8284271247461903\n"
          ]
        }
      ]
    },
    {
      "cell_type": "markdown",
      "source": [
        "### Q5:- Write a program to find the simple interest when the value of principle,rate of interest and time period is provided by the user.\n"
      ],
      "metadata": {
        "id": "VLrhg-FRsHjR"
      }
    },
    {
      "cell_type": "code",
      "source": [
        "# Write your code here\n",
        "p = int(input('Enter the principle'))\n",
        "r = int(input('Enter the interest rate'))\n",
        "t = int(input('Enter the time period'))\n",
        "\n",
        "i = p*r*t/100\n",
        "\n",
        "print(i)"
      ],
      "metadata": {
        "id": "s40DlReZsTmY",
        "outputId": "79087d9a-2d12-4351-eb70-f6b07079382f",
        "colab": {
          "base_uri": "https://localhost:8080/"
        }
      },
      "execution_count": 8,
      "outputs": [
        {
          "output_type": "stream",
          "name": "stdout",
          "text": [
            "Enter the principle100\n",
            "Enter the interest rate2\n",
            "Enter the time period2\n",
            "4.0\n"
          ]
        }
      ]
    },
    {
      "cell_type": "markdown",
      "source": [
        "### Q6:- Write a program that will tell the number of dogs and chicken are there when the user will provide the value of total heads and legs.\n",
        "\n",
        "For example:\n",
        "Input:\n",
        "heads -> 4\n",
        "legs -> 12\n",
        "<br>\n",
        "Output:\n",
        "dogs -> 2\n",
        "chicken -> 2\n",
        "\n",
        "\n",
        "\n"
      ],
      "metadata": {
        "id": "LMy0BTUktYKa"
      }
    },
    {
      "cell_type": "code",
      "source": [
        "# Write your code here\n",
        "heads = int(input('Enter heads'))\n",
        "legs = int(input('Enter legs'))\n",
        "\n",
        "for dogs in range(0,heads+1):\n",
        "  chickens = heads - dogs\n",
        "  if 4 * dogs + 2 * chickens == legs:\n",
        "    print(\"Dogs are\", dogs)\n",
        "    print('Chicken are',chickens)\n"
      ],
      "metadata": {
        "id": "XSBvJoA4tXaG",
        "outputId": "282bf037-141e-4809-d001-ac7abb1732ab",
        "colab": {
          "base_uri": "https://localhost:8080/"
        }
      },
      "execution_count": 23,
      "outputs": [
        {
          "name": "stdout",
          "output_type": "stream",
          "text": [
            "Enter heads4\n",
            "Enter legs2\n"
          ]
        }
      ]
    },
    {
      "cell_type": "markdown",
      "source": [
        "### Q7:- Write a program to find the sum of squares of first n natural numbers where n will be provided by the user."
      ],
      "metadata": {
        "id": "gJ7C5kZYt4BP"
      }
    },
    {
      "cell_type": "code",
      "source": [
        "# Write your code here\n",
        "\n",
        "n = int(input('Enter a no.'))\n",
        "sum = n*(n+1)*(2*n +1)/6\n",
        "\n",
        "print(sum)"
      ],
      "metadata": {
        "id": "_tHsmEHzt2nX",
        "outputId": "022d73da-800b-4cdf-dc16-109c08a04222",
        "colab": {
          "base_uri": "https://localhost:8080/"
        }
      },
      "execution_count": 28,
      "outputs": [
        {
          "output_type": "stream",
          "name": "stdout",
          "text": [
            "Enter a no.5\n",
            "55.0\n"
          ]
        }
      ]
    },
    {
      "cell_type": "markdown",
      "source": [
        "### Q8:- Given the first 2 terms of an Arithmetic Series.Find the Nth term of the series. Assume all inputs are provided by the user."
      ],
      "metadata": {
        "id": "FHrMM7g-yG1h"
      }
    },
    {
      "cell_type": "code",
      "source": [
        "# Write your code here\n",
        "x1 = int(input(\"Give first term\"))\n",
        "x2 = int(input('Give second term'))\n",
        "n = int(input(\"Give which term to calcualte for arithmetic series:\"))\n",
        "\n",
        "nterm = x1 + (n-1)*(x2-x1)\n",
        "\n",
        "print('The term is',nterm)"
      ],
      "metadata": {
        "id": "go4_kmZmyVSx",
        "outputId": "e6102273-1592-4a7e-ca02-639c42136aa3",
        "colab": {
          "base_uri": "https://localhost:8080/"
        }
      },
      "execution_count": 29,
      "outputs": [
        {
          "output_type": "stream",
          "name": "stdout",
          "text": [
            "Give first term2\n",
            "Give second term3\n",
            "Give which term to calcualte for arithmetic series:5\n",
            "The term is 6\n"
          ]
        }
      ]
    },
    {
      "cell_type": "markdown",
      "source": [
        "### Q9:- Given 2 fractions, find the sum of those 2 fractions.Take the numerator and denominator values of the fractions from the user."
      ],
      "metadata": {
        "id": "QgyRX_es1oum"
      }
    },
    {
      "cell_type": "code",
      "source": [
        "# Write your code here\n"
      ],
      "metadata": {
        "id": "X05xqFS1yW16"
      },
      "execution_count": null,
      "outputs": []
    },
    {
      "cell_type": "markdown",
      "source": [
        "### Q10:- Given the height, width and breadth of a milk tank, you have to find out how many glasses of milk can be obtained? Assume all the inputs are provided by the user.\n",
        "\n",
        "\n",
        "\n",
        "Input:<br>\n",
        "Dimensions of the milk tank<br>\n",
        "H = 20cm, L = 20cm, B = 20cm\n",
        "<br><br>\n",
        "Dimensions of the glass<br>\n",
        "h = 3cm, r = 1cm"
      ],
      "metadata": {
        "id": "eaql38ln13u7"
      }
    },
    {
      "cell_type": "code",
      "source": [
        "# Write your code here\n",
        "\n",
        "import math\n",
        "\n",
        "h_t = float(input('height'))\n",
        "b_t = float(input('breadth'))\n",
        "l_t = float(input('length'))\n",
        "\n",
        "h_g = float(input('Enter height of glass'))\n",
        "r_g = float(input('Enter radius of glass'))\n",
        "\n",
        "vol_tank = h_t * l_t * b_t\n",
        "vol_glass = 3.14 * r_g * r_g * h_g\n",
        "\n",
        "print('no of glasses',math.floor(vol_tank/vol_glass))"
      ],
      "metadata": {
        "id": "FePZqno74eWv",
        "outputId": "1f469b58-a3ce-4d2e-d462-1f336cf877fe",
        "colab": {
          "base_uri": "https://localhost:8080/"
        }
      },
      "execution_count": 31,
      "outputs": [
        {
          "output_type": "stream",
          "name": "stdout",
          "text": [
            "height3\n",
            "breadth4\n",
            "length5\n",
            "Enter height of glass6\n",
            "Enter radius of glass2\n",
            "no of glasses 0\n"
          ]
        }
      ]
    },
    {
      "cell_type": "code",
      "source": [],
      "metadata": {
        "id": "tnRMy1g-xaLT"
      },
      "execution_count": null,
      "outputs": []
    }
  ]
}